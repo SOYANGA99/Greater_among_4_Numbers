{
 "cells": [
  {
   "cell_type": "code",
   "execution_count": 7,
   "id": "92b6e1c9",
   "metadata": {},
   "outputs": [
    {
     "name": "stdout",
     "output_type": "stream",
     "text": [
      "Enter 1st no:-654\n",
      "Enter 2nd no:-8756846\n",
      "Enter 3rd no:-987\n",
      "enter 4rth no:-9\n",
      "B Is Greater\n"
     ]
    }
   ],
   "source": [
    "a= int(input(\"Enter 1st no:-\"))\n",
    "b= int(input(\"Enter 2nd no:-\"))\n",
    "c= int(input(\"Enter 3rd no:-\"))\n",
    "d= int(input(\"enter 4rth no:-\"))\n",
    "if (a>b) and (a>c) and (a>d):\n",
    "        print(\"A Is Greater\")\n",
    "elif (b>a) and (b>c) and (b>d):\n",
    "    print(\"B Is Greater\")\n",
    "elif (c>a) and (c>b) and (c>d):\n",
    "    print(\"C Is greater\")\n",
    "else:\n",
    "    print(\"D Is Greater\")"
   ]
  },
  {
   "cell_type": "code",
   "execution_count": null,
   "id": "d51c0161",
   "metadata": {},
   "outputs": [],
   "source": []
  }
 ],
 "metadata": {
  "kernelspec": {
   "display_name": "Python 3 (ipykernel)",
   "language": "python",
   "name": "python3"
  },
  "language_info": {
   "codemirror_mode": {
    "name": "ipython",
    "version": 3
   },
   "file_extension": ".py",
   "mimetype": "text/x-python",
   "name": "python",
   "nbconvert_exporter": "python",
   "pygments_lexer": "ipython3",
   "version": "3.9.7"
  }
 },
 "nbformat": 4,
 "nbformat_minor": 5
}
